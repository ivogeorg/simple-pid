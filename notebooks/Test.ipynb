{
 "cells": [
  {
   "cell_type": "markdown",
   "id": "f2ba9eee",
   "metadata": {},
   "source": [
    "# Testing Python, Jupyter, and simple-pid on Windows"
   ]
  },
  {
   "cell_type": "markdown",
   "id": "52304357",
   "metadata": {},
   "source": [
    "## 1. Define a process to control"
   ]
  },
  {
   "cell_type": "code",
   "execution_count": 1,
   "id": "161b01c0",
   "metadata": {},
   "outputs": [],
   "source": [
    "class WaterBoiler:\n",
    "    \"\"\"\n",
    "    Simple simulation of a water boiler which can heat up water\n",
    "    and where the heat dissipates slowly over time\n",
    "    \"\"\"\n",
    "\n",
    "    def __init__(self):\n",
    "        self.water_temp = 20\n",
    "\n",
    "    def update(self, boiler_power, dt):\n",
    "        if boiler_power > 0:\n",
    "            # Boiler can only produce heat, not cold\n",
    "            self.water_temp += 1 * boiler_power * dt\n",
    "\n",
    "        # Some heat dissipation\n",
    "        self.water_temp -= 0.02 * dt\n",
    "        return self.water_temp\n"
   ]
  },
  {
   "cell_type": "markdown",
   "id": "3f1495ce",
   "metadata": {},
   "source": [
    "## 2. Import necessary packages"
   ]
  },
  {
   "cell_type": "code",
   "execution_count": 2,
   "id": "9a9c370c",
   "metadata": {},
   "outputs": [],
   "source": [
    "import time\n",
    "import matplotlib.pyplot as plt\n",
    "from simple_pid import PID"
   ]
  },
  {
   "cell_type": "markdown",
   "id": "7eb82b47",
   "metadata": {},
   "source": [
    "## 3. Run simulation"
   ]
  },
  {
   "cell_type": "code",
   "execution_count": 3,
   "id": "db200299",
   "metadata": {},
   "outputs": [
    {
     "data": {
      "image/png": "[encoded data removed]",
      "text/plain": [
       "<Figure size 432x288 with 1 Axes>"
      ]
     },
     "metadata": {
      "needs_background": "light"
     },
     "output_type": "display_data"
    }
   ],
   "source": [
    "boiler = WaterBoiler()\n",
    "water_temp = boiler.water_temp\n",
    "\n",
    "pid = PID(5, 0.01, 0.1, setpoint=water_temp)\n",
    "pid.output_limits = (0, 100)\n",
    "\n",
    "start_time = time.time()\n",
    "last_time = start_time\n",
    "\n",
    "# Keep track of values for plotting\n",
    "setpoint, y, x = [], [], []\n",
    "\n",
    "while time.time() - start_time < 10:\n",
    "    current_time = time.time()\n",
    "    dt = current_time - last_time\n",
    "\n",
    "    power = pid(water_temp)\n",
    "    water_temp = boiler.update(power, dt)\n",
    "\n",
    "    x += [current_time - start_time]\n",
    "    y += [water_temp]\n",
    "    setpoint += [pid.setpoint]\n",
    "\n",
    "    if current_time - start_time > 1:\n",
    "        pid.setpoint = 100\n",
    "\n",
    "    last_time = current_time\n",
    "\n",
    "plt.plot(x, y, label='measured')\n",
    "plt.plot(x, setpoint, label='target')\n",
    "plt.xlabel('time')\n",
    "plt.ylabel('temperature')\n",
    "plt.legend()\n",
    "plt.show()"
   ]
  },
  {
   "cell_type": "code",
   "execution_count": null,
   "id": "a057d576",
   "metadata": {},
   "outputs": [],
   "source": []
  }
 ],
 "metadata": {
  "kernelspec": {
   "display_name": "Python 3 (ipykernel)",
   "language": "python",
   "name": "python3"
  },
  "language_info": {
   "codemirror_mode": {
    "name": "ipython",
    "version": 3
   },
   "file_extension": ".py",
   "mimetype": "text/x-python",
   "name": "python",
   "nbconvert_exporter": "python",
   "pygments_lexer": "ipython3",
   "version": "3.9.7"
  }
 },
 "nbformat": 4,
 "nbformat_minor": 5
}
